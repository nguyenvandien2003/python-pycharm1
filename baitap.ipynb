{
  "nbformat": 4,
  "nbformat_minor": 0,
  "metadata": {
    "colab": {
      "name": "baitap.ipynb",
      "provenance": [],
      "authorship_tag": "ABX9TyOgnqmGwPhW178Xy/NaKq/5",
      "include_colab_link": true
    },
    "kernelspec": {
      "name": "python3",
      "display_name": "Python 3"
    },
    "language_info": {
      "name": "python"
    }
  },
  "cells": [
    {
      "cell_type": "markdown",
      "metadata": {
        "id": "view-in-github",
        "colab_type": "text"
      },
      "source": [
        "<a href=\"https://colab.research.google.com/github/nguyenvandien2003/python-pycharm1/blob/master/baitap.ipynb\" target=\"_parent\"><img src=\"https://colab.research.google.com/assets/colab-badge.svg\" alt=\"Open In Colab\"/></a>"
      ]
    },
    {
      "cell_type": "code",
      "metadata": {
        "colab": {
          "base_uri": "https://localhost:8080/"
        },
        "id": "HZ4iOIX-vyQ2",
        "outputId": "46d50b78-e007-4f17-9f8b-de70abd68252"
      },
      "source": [
        "khoanvay = float(input('nhập vào khoản vay: '))\n",
        "laisuathangthang = float(input('Nhập vào lãi suất hàng tháng: '))/100       \n",
        "nam=int(input('nhập vào số năm: '))\n",
        "khoantiencantrahangthang= (khoanvay * laisuathangthang) / (1 - 1 / ((1 + laisuathangthang) ** nam*12))\n",
        "print(khoantiencantrahangthang)"
      ],
      "execution_count": 15,
      "outputs": [
        {
          "output_type": "stream",
          "name": "stdout",
          "text": [
            "nhập vào khoản vay: 5000000\n",
            "Nhập vào lãi suất hàng tháng: 1.5\n",
            "nhập vào số năm: 1\n",
            "81708.40787119856\n"
          ]
        }
      ]
    },
    {
      "cell_type": "code",
      "metadata": {
        "id": "okywvGTaShIP"
      },
      "source": [
        ""
      ],
      "execution_count": null,
      "outputs": []
    }
  ]
}